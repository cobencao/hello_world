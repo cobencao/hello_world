{
 "cells": [
  {
   "cell_type": "markdown",
   "metadata": {},
   "source": [
    "# 面向对象含义\n",
    "PYTHON是一门面向对象的语言。\n",
    "\n",
    "类(class)是一种抽象的模板，\n",
    "\n",
    "实例(Instance)是根据类创建出来的具体对象，每个对象都有相同的方法，只不过传入的数据可能不同。\n",
    "\n",
    "类里面一般包含属性和方法，\n",
    "\n",
    "你可以简单理解为属性为静态，方法是动态的。\n",
    "\n",
    "比如人(PERSON)这个类，\n",
    "\n",
    "嘴、手、腿就是类的属性，\n",
    "\n",
    "跑步、吃饭等就是累的方法。"
   ]
  },
  {
   "cell_type": "markdown",
   "metadata": {},
   "source": [
    "我们可以把在创建实例时我们认为必须绑定的属性强制填写进去，这里通过 __init__ 方法完成。\n",
    "\n",
    "__init__ 方法的第一个参数永远是self,代表了实例本身。\n",
    "\n",
    "有了该方法之后，在创建的实例的时候必须强制指定属性值，否则会报错。\n",
    "\n",
    "该方法也可以理解为初始化的一个动作，在创建实例的时候初始化该实例的一些属性！"
   ]
  },
  {
   "cell_type": "code",
   "execution_count": 1,
   "metadata": {
    "ExecuteTime": {
     "end_time": "2019-03-01T12:06:51.193138Z",
     "start_time": "2019-03-01T12:06:51.183163Z"
    }
   },
   "outputs": [],
   "source": [
    "# 创建一个简单的学生（Student）类\n",
    "# 只针对PYTHON3以上的版本\n",
    "\n",
    "class Student:\n",
    "    def __init__(self,student_id,address,score,student_name):  # 属性\n",
    "        self.student_id = student_id \n",
    "        self.address = address\n",
    "        self.score = score\n",
    "        self.name = student_name\n",
    "        self.gender = \"female\"\n",
    "    \n",
    "    def getId(self): # 方法\n",
    "        print(self.staudent_id)\n",
    "\n",
    "# 创建实例\n",
    "student = Student(1020202,\"北京\",98,\"xiaoming\")"
   ]
  },
  {
   "cell_type": "code",
   "execution_count": 2,
   "metadata": {
    "ExecuteTime": {
     "end_time": "2019-03-01T12:07:32.142758Z",
     "start_time": "2019-03-01T12:07:32.129829Z"
    }
   },
   "outputs": [],
   "source": [
    "class Student:\n",
    "    \n",
    "    kind = \"Chinese\" # Shared by all instances\n",
    "    \n",
    "    def __init__(self,id,address,score):\n",
    "        self.id = id \n",
    "        self.address = address\n",
    "        self.score = score\n",
    "    \n",
    "    def getId(self):\n",
    "        print(self.id)\n",
    "        print(self.kind)\n",
    "        \n",
    "    def judge_age(self,age):\n",
    "        if age < 18:\n",
    "            return \"未成年\"\n",
    "        elif age < 30:\n",
    "            print(\"Student: {0}\".format(self.id))\n",
    "            return \"年轻人\"\n",
    "        elif age < 60:\n",
    "            return \"中年人\"\n",
    "        else:\n",
    "            return \"老年人\"\n",
    "        \n",
    "S1 = Student(12324,\"上海市\",100)\n",
    "S2 =  Student(3245,\"上海市\",90)\n",
    "# print(S1.kind)\n",
    "# S1.judge_age(22)"
   ]
  },
  {
   "cell_type": "code",
   "execution_count": 3,
   "metadata": {
    "ExecuteTime": {
     "end_time": "2019-03-01T12:07:33.421117Z",
     "start_time": "2019-03-01T12:07:33.415133Z"
    }
   },
   "outputs": [
    {
     "name": "stdout",
     "output_type": "stream",
     "text": [
      "12324\n",
      "Chinese\n"
     ]
    }
   ],
   "source": [
    "S1.getId()"
   ]
  },
  {
   "cell_type": "markdown",
   "metadata": {},
   "source": [
    "# 继承\n",
    "\n",
    "面向对象编程语言连都会有继承的概念，\n",
    "\n",
    "我们可以定义一个class类，然后再定义它的子类,\n",
    "\n",
    "这个子类继承了上面的类，被继承的类称作父类。"
   ]
  },
  {
   "cell_type": "code",
   "execution_count": 4,
   "metadata": {
    "ExecuteTime": {
     "end_time": "2019-03-01T12:09:02.353229Z",
     "start_time": "2019-03-01T12:09:02.347245Z"
    }
   },
   "outputs": [],
   "source": [
    "class Student():\n",
    "    \n",
    "    def __init__(self,name,id):\n",
    "        self.name = name\n",
    "        self.id = id\n",
    "    \n",
    "    def student(self):\n",
    "        print(\"Student score!\")\n",
    "        \n",
    "    def get_name_id(self):\n",
    "        print(self.name +\":\" +self.id)"
   ]
  },
  {
   "cell_type": "code",
   "execution_count": 5,
   "metadata": {
    "ExecuteTime": {
     "end_time": "2019-03-01T12:09:08.969028Z",
     "start_time": "2019-03-01T12:09:08.964041Z"
    }
   },
   "outputs": [],
   "source": [
    "class HighSchool(Student):\n",
    "    pass"
   ]
  },
  {
   "cell_type": "markdown",
   "metadata": {
    "ExecuteTime": {
     "end_time": "2019-03-01T12:09:44.591230Z",
     "start_time": "2019-03-01T12:09:44.585246Z"
    }
   },
   "source": [
    "Highschool类集成了Student类，\n",
    "\n",
    "student类就是父类。\n",
    "\n",
    "继承的好处就是子类可以享用父类的全部方法和属性。\n",
    "\n",
    "虽然HighSchool什么也没定义，\n",
    "\n",
    "但是可以直接使用Student的方法。"
   ]
  },
  {
   "cell_type": "code",
   "execution_count": 8,
   "metadata": {
    "ExecuteTime": {
     "end_time": "2019-03-01T12:10:27.591641Z",
     "start_time": "2019-03-01T12:10:27.585657Z"
    }
   },
   "outputs": [
    {
     "name": "stdout",
     "output_type": "stream",
     "text": [
      "Student score!\n"
     ]
    }
   ],
   "source": [
    "hs = HighSchool(\"xiao\",\"1234\")\n",
    "hs.student()"
   ]
  },
  {
   "cell_type": "code",
   "execution_count": 9,
   "metadata": {
    "ExecuteTime": {
     "end_time": "2019-03-01T12:10:33.564551Z",
     "start_time": "2019-03-01T12:10:33.559565Z"
    }
   },
   "outputs": [
    {
     "name": "stdout",
     "output_type": "stream",
     "text": [
      "xiao:1234\n"
     ]
    }
   ],
   "source": [
    "hs.get_name_id()"
   ]
  },
  {
   "cell_type": "markdown",
   "metadata": {},
   "source": [
    "## super()"
   ]
  },
  {
   "cell_type": "markdown",
   "metadata": {},
   "source": [
    "子类也可以由自己的初始化方法，一定要用 super().init(name, id) 去初始化父类\n",
    "\n",
    "函数super()将返回当前类继承的父类，即 Student ，然后调用init()方法."
   ]
  },
  {
   "cell_type": "code",
   "execution_count": 10,
   "metadata": {
    "ExecuteTime": {
     "end_time": "2019-03-01T12:11:27.145072Z",
     "start_time": "2019-03-01T12:11:27.138088Z"
    }
   },
   "outputs": [],
   "source": [
    "class Student():\n",
    "    \n",
    "    def __init__(self,name,id):\n",
    "        self.name = name\n",
    "        self.id = id\n",
    "    \n",
    "    def student(self):\n",
    "        print(\"Student score!\")\n",
    "        \n",
    "    def get_name_id(self):\n",
    "        print(self.name +\":\" +self.id)\n",
    "\n",
    "\n",
    "class HighSchool(Student):\n",
    "    \n",
    "    def __init__(self,name,id,score):\n",
    "        super().__init__(name,id)\n",
    "        self.score=score\n",
    "    pass"
   ]
  },
  {
   "cell_type": "code",
   "execution_count": 11,
   "metadata": {
    "ExecuteTime": {
     "end_time": "2019-03-01T12:11:35.838473Z",
     "start_time": "2019-03-01T12:11:35.833485Z"
    }
   },
   "outputs": [
    {
     "name": "stdout",
     "output_type": "stream",
     "text": [
      "xiaoming:1234\n"
     ]
    }
   ],
   "source": [
    "hs = HighSchool(\"xiaoming\",\"1234\",100)\n",
    "hs.get_name_id()"
   ]
  },
  {
   "cell_type": "markdown",
   "metadata": {},
   "source": [
    "# 多态\n",
    "子类和父类方法名字一样时，以子类的方法为准。"
   ]
  },
  {
   "cell_type": "code",
   "execution_count": 12,
   "metadata": {
    "ExecuteTime": {
     "end_time": "2019-03-01T12:22:57.470825Z",
     "start_time": "2019-03-01T12:22:57.462848Z"
    }
   },
   "outputs": [],
   "source": [
    "class Student():\n",
    "    def __init__(self,name,id):\n",
    "        self.name = name\n",
    "        self.id = id\n",
    "    \n",
    "    def student(self):\n",
    "        print(\"Student score!\")\n",
    "        \n",
    "    def get_name_id(self):\n",
    "        print(self.name +\":\" +self.id)\n",
    "\n",
    "\n",
    "class HighSchool(Student):\n",
    "    def __init__(self,name,id,score):\n",
    "        super().__init__(name,id)\n",
    "        self.score=score\n",
    "    def get_name_id(self):\n",
    "        print(self.name +\":\" +self.id + \":\" + str(self.score))"
   ]
  },
  {
   "cell_type": "code",
   "execution_count": 13,
   "metadata": {
    "ExecuteTime": {
     "end_time": "2019-03-01T12:23:03.980361Z",
     "start_time": "2019-03-01T12:23:03.975371Z"
    }
   },
   "outputs": [
    {
     "name": "stdout",
     "output_type": "stream",
     "text": [
      "xiaoming:1234:100\n"
     ]
    }
   ],
   "source": [
    "hs = HighSchool(\"xiaoming\",\"1234\",100)\n",
    "hs.get_name_id()"
   ]
  },
  {
   "cell_type": "code",
   "execution_count": null,
   "metadata": {},
   "outputs": [],
   "source": []
  }
 ],
 "metadata": {
  "hide_input": false,
  "kernelspec": {
   "display_name": "Python 3",
   "language": "python",
   "name": "python3"
  },
  "language_info": {
   "codemirror_mode": {
    "name": "ipython",
    "version": 3
   },
   "file_extension": ".py",
   "mimetype": "text/x-python",
   "name": "python",
   "nbconvert_exporter": "python",
   "pygments_lexer": "ipython3",
   "version": "3.7.0"
  },
  "toc": {
   "base_numbering": 1,
   "nav_menu": {},
   "number_sections": true,
   "sideBar": true,
   "skip_h1_title": false,
   "title_cell": "Table of Contents",
   "title_sidebar": "Contents",
   "toc_cell": false,
   "toc_position": {
    "height": "calc(100% - 180px)",
    "left": "10px",
    "top": "150px",
    "width": "174px"
   },
   "toc_section_display": true,
   "toc_window_display": true
  },
  "varInspector": {
   "cols": {
    "lenName": 16,
    "lenType": 16,
    "lenVar": 40
   },
   "kernels_config": {
    "python": {
     "delete_cmd_postfix": "",
     "delete_cmd_prefix": "del ",
     "library": "var_list.py",
     "varRefreshCmd": "print(var_dic_list())"
    },
    "r": {
     "delete_cmd_postfix": ") ",
     "delete_cmd_prefix": "rm(",
     "library": "var_list.r",
     "varRefreshCmd": "cat(var_dic_list()) "
    }
   },
   "types_to_exclude": [
    "module",
    "function",
    "builtin_function_or_method",
    "instance",
    "_Feature"
   ],
   "window_display": false
  }
 },
 "nbformat": 4,
 "nbformat_minor": 2
}
