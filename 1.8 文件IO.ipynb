{
 "cells": [
  {
   "cell_type": "markdown",
   "metadata": {},
   "source": [
    "# 读文件\n",
    "\n",
    "我们的数据一般都是存在文件里的，需要通过程序将文件加载到Python环境中，这样才可以使用python对其进行分析。 \n",
    "\n",
    "PYTHON标准库提供了一些标准的实现，我们一起来看一下。\n",
    "\n",
    "读文件需要使用 open() 函数，其参数为文件名与标识符："
   ]
  },
  {
   "cell_type": "code",
   "execution_count": 3,
   "metadata": {
    "ExecuteTime": {
     "end_time": "2019-03-02T02:03:53.905153Z",
     "start_time": "2019-03-02T02:03:53.899175Z"
    }
   },
   "outputs": [],
   "source": [
    "f = open('D:\\\\coben\\\\Data\\\\test.txt','r',encoding='utf-8')\n",
    "data = f.read()\n",
    "f.close()"
   ]
  },
  {
   "cell_type": "code",
   "execution_count": 4,
   "metadata": {
    "ExecuteTime": {
     "end_time": "2019-03-02T02:03:56.790781Z",
     "start_time": "2019-03-02T02:03:56.778813Z"
    }
   },
   "outputs": [
    {
     "data": {
      "text/plain": [
       "'我是曹彬，我是数据分析工程师。'"
      ]
     },
     "execution_count": 4,
     "metadata": {},
     "output_type": "execute_result"
    }
   ],
   "source": [
    "data"
   ]
  },
  {
   "cell_type": "markdown",
   "metadata": {},
   "source": [
    "'r'表示读文件的意思,在获取文件之后,\n",
    "\n",
    "使用read函数读取数据，最后一步是调用close()方法关闭文件。\n",
    "\n",
    "文件使用完毕后必须关闭，因为文件对象会占用操作系统的资源。\n",
    "\n",
    "但是每次这样写很麻烦，我们可以使用with关键词进行整合："
   ]
  },
  {
   "cell_type": "code",
   "execution_count": 5,
   "metadata": {
    "ExecuteTime": {
     "end_time": "2019-03-02T02:06:42.436795Z",
     "start_time": "2019-03-02T02:06:42.431808Z"
    }
   },
   "outputs": [],
   "source": [
    "with open('D:\\\\coben\\\\Data\\\\test.txt','r',encoding='utf-8') as handle:\n",
    "    data = handle.readlines()"
   ]
  },
  {
   "cell_type": "code",
   "execution_count": 6,
   "metadata": {
    "ExecuteTime": {
     "end_time": "2019-03-02T02:06:44.220540Z",
     "start_time": "2019-03-02T02:06:44.213556Z"
    }
   },
   "outputs": [
    {
     "data": {
      "text/plain": [
       "['我是曹彬，我是数据分析工程师。']"
      ]
     },
     "execution_count": 6,
     "metadata": {},
     "output_type": "execute_result"
    }
   ],
   "source": [
    "data"
   ]
  },
  {
   "cell_type": "markdown",
   "metadata": {},
   "source": [
    "# 文件编码\n",
    "根据你当前的文件编码在open函数里面指定encoding的类型。\n",
    "\n",
    "一般来说，windows系统上的文件都是 gbk 或 utf-8 格式："
   ]
  },
  {
   "cell_type": "code",
   "execution_count": 13,
   "metadata": {
    "ExecuteTime": {
     "end_time": "2019-03-02T02:09:17.968741Z",
     "start_time": "2019-03-02T02:09:17.961760Z"
    }
   },
   "outputs": [],
   "source": [
    "f = open('D:\\\\coben\\\\Data\\\\test.txt','r',encoding='utf-8') # gbk\n",
    "data = f.read()\n",
    "f.close()"
   ]
  },
  {
   "cell_type": "code",
   "execution_count": 14,
   "metadata": {
    "ExecuteTime": {
     "end_time": "2019-03-02T02:09:22.048731Z",
     "start_time": "2019-03-02T02:09:22.041750Z"
    }
   },
   "outputs": [
    {
     "data": {
      "text/plain": [
       "'我是曹彬，我是数据分析工程师。'"
      ]
     },
     "execution_count": 14,
     "metadata": {},
     "output_type": "execute_result"
    }
   ],
   "source": [
    "data"
   ]
  },
  {
   "cell_type": "markdown",
   "metadata": {},
   "source": [
    "# 写文件\n",
    "\n",
    "写文件和读文件几乎一致，唯一的区别是标识符需要改为\"w\"。\n",
    "\n",
    "第一个实参也是要打开的文件的名称；\n",
    "\n",
    "第二个实参（'w'）告诉Python，我们要以写入模式打开这个文件。\n",
    "\n",
    "打开文件时，可指定读取模式（'r'）、 写入模式（'w'）、 附加模式（'a'）或让你能够读取和写入文件的模式（'r+'）。\n",
    "\n",
    "如果你省略了模式实参，Python将以默认的只读模式打开文件。"
   ]
  },
  {
   "cell_type": "code",
   "execution_count": 15,
   "metadata": {
    "ExecuteTime": {
     "end_time": "2019-03-02T02:12:02.457625Z",
     "start_time": "2019-03-02T02:12:02.451643Z"
    }
   },
   "outputs": [],
   "source": [
    "with open('D:\\\\coben\\\\Data\\\\test.txt','w') as handle:\n",
    "    handle.write(\"hello world\")"
   ]
  },
  {
   "cell_type": "markdown",
   "metadata": {},
   "source": [
    "如果你要写入的文件不存在，函数open()将自动创建它。\n",
    "\n",
    "然而，以写入（<span class=\"mark\">'w'</span>）模式打开文 件时千万要小心，\n",
    "\n",
    "因为如果指定的文件已经存在，Python将在<span class=\"mark\">返回文件对象前清空该文件</span>。"
   ]
  },
  {
   "cell_type": "markdown",
   "metadata": {},
   "source": [
    "## 写入多行\n",
    "\n",
    "函数 write() 不会在你写入的文本末尾添加换行符，\n",
    "\n",
    "因此如果你写入多行时没有指定换行符，文件看起来可能不是你希望的那样："
   ]
  },
  {
   "cell_type": "code",
   "execution_count": 18,
   "metadata": {
    "ExecuteTime": {
     "end_time": "2019-03-02T02:16:17.224960Z",
     "start_time": "2019-03-02T02:16:17.216985Z"
    }
   },
   "outputs": [],
   "source": [
    "with open('D:\\\\coben\\\\Data\\\\test.txt','w') as handle:\n",
    "    handle.write(\"Hello World!!\")\n",
    "    handle.write(\"Hello Coben!!\")"
   ]
  },
  {
   "cell_type": "code",
   "execution_count": 20,
   "metadata": {
    "ExecuteTime": {
     "end_time": "2019-03-02T02:17:15.841834Z",
     "start_time": "2019-03-02T02:17:15.834854Z"
    }
   },
   "outputs": [],
   "source": [
    "# 添加换行符\n",
    "with open('D:\\\\coben\\\\Data\\\\test.txt','w') as handle:\n",
    "    handle.write(\"Hello World!!\\n\")\n",
    "    handle.write(\"Hello Coben!!\\n\")"
   ]
  },
  {
   "cell_type": "markdown",
   "metadata": {},
   "source": [
    "## 附加到文件\n",
    "\n",
    "如果你要给文件添加内容，而不是覆盖原有的内容，可以附加模式打开文件。\n",
    "\n",
    "你以附加模式打开文件时，Python不会在返回文件对象前清空文件，而你写入到文件的行都将添加到文件末尾。 \n",
    "\n",
    "如果指定的文件不存在， Python将为你创建一个空文件。"
   ]
  },
  {
   "cell_type": "code",
   "execution_count": 21,
   "metadata": {
    "ExecuteTime": {
     "end_time": "2019-03-02T02:18:44.116328Z",
     "start_time": "2019-03-02T02:18:44.109348Z"
    }
   },
   "outputs": [],
   "source": [
    "with open('D:\\\\coben\\\\Data\\\\test.txt','a') as handle:\n",
    "    handle.write(\"Today is Nice!\\n\")\n",
    "    handle.write(\"We are happy!!\\n\")"
   ]
  },
  {
   "cell_type": "code",
   "execution_count": null,
   "metadata": {},
   "outputs": [],
   "source": []
  }
 ],
 "metadata": {
  "hide_input": false,
  "kernelspec": {
   "display_name": "Python 3",
   "language": "python",
   "name": "python3"
  },
  "language_info": {
   "codemirror_mode": {
    "name": "ipython",
    "version": 3
   },
   "file_extension": ".py",
   "mimetype": "text/x-python",
   "name": "python",
   "nbconvert_exporter": "python",
   "pygments_lexer": "ipython3",
   "version": "3.7.0"
  },
  "toc": {
   "base_numbering": 1,
   "nav_menu": {},
   "number_sections": true,
   "sideBar": true,
   "skip_h1_title": false,
   "title_cell": "Table of Contents",
   "title_sidebar": "Contents",
   "toc_cell": false,
   "toc_position": {
    "height": "calc(100% - 180px)",
    "left": "10px",
    "top": "150px",
    "width": "198px"
   },
   "toc_section_display": true,
   "toc_window_display": true
  },
  "varInspector": {
   "cols": {
    "lenName": 16,
    "lenType": 16,
    "lenVar": 40
   },
   "kernels_config": {
    "python": {
     "delete_cmd_postfix": "",
     "delete_cmd_prefix": "del ",
     "library": "var_list.py",
     "varRefreshCmd": "print(var_dic_list())"
    },
    "r": {
     "delete_cmd_postfix": ") ",
     "delete_cmd_prefix": "rm(",
     "library": "var_list.r",
     "varRefreshCmd": "cat(var_dic_list()) "
    }
   },
   "types_to_exclude": [
    "module",
    "function",
    "builtin_function_or_method",
    "instance",
    "_Feature"
   ],
   "window_display": false
  }
 },
 "nbformat": 4,
 "nbformat_minor": 2
}
